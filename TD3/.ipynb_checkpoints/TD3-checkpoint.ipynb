{
 "cells": [
  {
   "cell_type": "code",
   "execution_count": null,
   "metadata": {
    "colab": {},
    "colab_type": "code",
    "id": "eFY4nKwHXR7x"
   },
   "outputs": [],
   "source": [
    "import matplotlib.pyplot as plt\n",
    "import numpy as np\n",
    "import pandas as pd\n",
    "import sys\n",
    "import time\n",
    "import torch\n",
    "\n",
    "from gym_unity.envs import UnityEnv\n",
    "from td3 import TD3Agent\n",
    "\n",
    "%matplotlib inline\n",
    "\n",
    "torch.manual_seed(7) # cpu\n",
    "torch.cuda.manual_seed(7) #gpu\n",
    "np.random.seed(7) #numpy"
   ]
  },
  {
   "cell_type": "code",
   "execution_count": null,
   "metadata": {},
   "outputs": [],
   "source": [
    "## 训练时记得注释掉保存路径数据到csv，测试时保存数据\n",
    "env_name = \"E:/RL/Test2(n1)3D/Env_Rocket_Train_Ob/Test\"  # Name of the Unity environment binary to launch\n",
    "env = UnityEnv(env_name, worker_id=0)\n",
    "env.seed(7)\n",
    "# Examine environment parameters\n",
    "print(str(env))\n",
    "print(env.observation_space.shape[0])\n",
    "print(env.action_space.shape[0])"
   ]
  },
  {
   "cell_type": "code",
   "execution_count": null,
   "metadata": {},
   "outputs": [],
   "source": [
    "## 环境测试\n",
    "\n",
    "for episode in range(5):\n",
    "    initial_observation = env.reset()\n",
    "    episode_rewards = 0\n",
    "    done = False\n",
    "    while not done:\n",
    "        action = env.action_space.sample()\n",
    "        print(action)\n",
    "        observation, reward, done, info = env.step(action)\n",
    "#         print(reward)\n",
    "#         print(done)\n",
    "#         print(observation)\n",
    "        episode_rewards += reward\n",
    "        if done:\n",
    "#             text = 'Success' if reward>0 else 'Failed'\n",
    "#             print(text, total_reward)\n",
    "            break\n",
    "    print(\"Total reward this episode: {}\".format(episode_rewards))"
   ]
  },
  {
   "cell_type": "code",
   "execution_count": null,
   "metadata": {},
   "outputs": [],
   "source": [
    "gamma = 0.99\n",
    "tau = 1e-2\n",
    "policy_noise = 0.2\n",
    "noise_bound = 0.5\n",
    "delay_step = 2\n",
    "critic_lr = 1e-3\n",
    "actor_lr = 1e-3\n",
    "buffer_maxlen = 100000\n",
    "batch_size = 128\n",
    "\n",
    "agent = TD3Agent(env, gamma, tau, buffer_maxlen, delay_step, policy_noise, noise_bound, critic_lr, actor_lr)"
   ]
  },
  {
   "cell_type": "code",
   "execution_count": null,
   "metadata": {
    "scrolled": true
   },
   "outputs": [],
   "source": [
    "## 训练\n",
    "\n",
    "t1 = time.time()\n",
    "max_episodes = 5000\n",
    "expl_noise = 1\n",
    "num = 0\n",
    "scores = []\n",
    "success = []\n",
    "\n",
    "for i_episode in range(1, max_episodes+1):\n",
    "    state = env.reset()\n",
    "    state = state[78:]\n",
    "    score = 0\n",
    "    steps = 0\n",
    "    \n",
    "    while True:\n",
    "        action = np.clip((agent.get_action(state) \n",
    "                          + np.random.normal(0, expl_noise, size=env.action_space.shape[0])),\n",
    "                         env.action_space.low, env.action_space.high)\n",
    "        next_state, reward, done, _ = env.step(action)\n",
    "        next_state = next_state[78:]\n",
    "        agent.replay_buffer.push(state, action, reward / 10, next_state, done)\n",
    "        num += 1\n",
    "        score += reward / 10\n",
    "        \n",
    "        if len(agent.replay_buffer) == buffer_maxlen:\n",
    "            agent.update(batch_size)\n",
    "            expl_noise *= 0.999995\n",
    "            \n",
    "        if done:\n",
    "            success += [reward>0]\n",
    "            break\n",
    "            \n",
    "        state = next_state\n",
    "    \n",
    "    scores += [score]\n",
    "    print('\\rEpisode', i_episode, 'Average Score: %.2f'%np.mean(scores[-1:]),\n",
    "          'Success rate %.2f'%np.mean(success[-20:]),\n",
    "          'exploration noise std %.6f'%expl_noise,\n",
    "          end=\"\")\n",
    "    \n",
    "#     agent.save(directory = './exp_Free./')\n",
    "    agent.save(directory = './exp_Ob./')\n",
    "    \n",
    "print('Running time: ', time.time() - t1)"
   ]
  },
  {
   "cell_type": "code",
   "execution_count": null,
   "metadata": {},
   "outputs": [],
   "source": [
    "fig = plt.figure()\n",
    "ax = fig.add_subplot(111)\n",
    "plt.plot(scores[-6000:])\n",
    "plt.ylabel('Score')\n",
    "plt.xlabel('Episode #')\n",
    "plt.show()"
   ]
  },
  {
   "cell_type": "code",
   "execution_count": null,
   "metadata": {},
   "outputs": [],
   "source": [
    "plt.plot(success[-5000:])"
   ]
  },
  {
   "cell_type": "code",
   "execution_count": null,
   "metadata": {},
   "outputs": [],
   "source": [
    "## 保存scores到csv文件 \n",
    "\n",
    "name = ['Value']\n",
    "reward_curve = pd.DataFrame(columns=name,data=scores)\n",
    "reward_curve.to_csv('C:/Users/ZST/Desktop/result/scores.csv')"
   ]
  },
  {
   "cell_type": "code",
   "execution_count": null,
   "metadata": {},
   "outputs": [],
   "source": [
    "## 测试10个episode\n",
    "\n",
    "# agent.load(directory = './exp_Free./')\n",
    "agent.load(directory = './exp_Ob./')\n",
    "\n",
    "for _ in range(10):\n",
    "    state = env.reset()\n",
    "    total_reward = 0\n",
    "    while True:\n",
    "        action = agent.get_action(state)\n",
    "        state, reward, done, _ = env.step(action)\n",
    "        total_reward += reward/10\n",
    "        if done:\n",
    "            text = 'Success' if reward>0 else 'Failed'\n",
    "            print(text, ', Total Reward= %.2f'%total_reward)\n",
    "            break"
   ]
  },
  {
   "cell_type": "code",
   "execution_count": null,
   "metadata": {
    "scrolled": true
   },
   "outputs": [],
   "source": [
    "## 测试2000个episode\n",
    "## Time Scale=100，撞到障碍物结束\n",
    "\n",
    "agent.load(directory = './exp_Ob./')\n",
    "scores = []\n",
    "success = []\n",
    "collision = []\n",
    "lost = []\n",
    "\n",
    "for i_episode in range(2000):\n",
    "    state = env.reset()\n",
    "    score = 0\n",
    "    \n",
    "    while True:\n",
    "        action = agent.get_action(state)\n",
    "        state, reward, done, _ = env.step(action)\n",
    "        score += reward / 10\n",
    "        \n",
    "        if done:\n",
    "            success += [reward>0]\n",
    "            collision += [reward<-50]\n",
    "            lost += [reward>-50 and reward<0]\n",
    "            text = 'Success' if reward>0 else 'Failed'\n",
    "            print('\\rEpisode',i_episode, text, ', Total Reward= %.2f'%score, \n",
    "                  ', Success rate %.5f'%np.mean(success[:]),\n",
    "                  ', Collision rate %.5f'%np.mean(collision[:]),\n",
    "                  ', Lost rate %.5f'%np.mean(lost[:]))\n",
    "            break\n",
    "            \n",
    "    scores += [score]\n",
    "\n",
    "# 保存scores到csv文件 \n",
    "name = ['Value']\n",
    "reward_test = pd.DataFrame(columns=name,data=scores)\n",
    "reward_test.to_csv('C:/Users/ZST/Desktop/result/scores_test.csv')"
   ]
  },
  {
   "cell_type": "code",
   "execution_count": null,
   "metadata": {},
   "outputs": [],
   "source": [
    "env.close()"
   ]
  },
  {
   "cell_type": "code",
   "execution_count": null,
   "metadata": {},
   "outputs": [],
   "source": []
  }
 ],
 "metadata": {
  "colab": {
   "name": "TD3.ipynb",
   "provenance": [],
   "version": "0.3.2"
  },
  "kernelspec": {
   "display_name": "Python 3",
   "language": "python",
   "name": "python3"
  },
  "language_info": {
   "codemirror_mode": {
    "name": "ipython",
    "version": 3
   },
   "file_extension": ".py",
   "mimetype": "text/x-python",
   "name": "python",
   "nbconvert_exporter": "python",
   "pygments_lexer": "ipython3",
   "version": "3.6.10"
  }
 },
 "nbformat": 4,
 "nbformat_minor": 1
}
